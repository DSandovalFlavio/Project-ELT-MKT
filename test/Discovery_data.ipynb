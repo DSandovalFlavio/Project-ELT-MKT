{
 "cells": [
  {
   "cell_type": "markdown",
   "metadata": {},
   "source": [
    "# Discovery Fuentes Kaggle"
   ]
  },
  {
   "cell_type": "code",
   "execution_count": 1,
   "metadata": {},
   "outputs": [],
   "source": [
    "import pandas as pd\n",
    "df = pd.read_csv('marketing_campaign_dataset.csv')"
   ]
  },
  {
   "cell_type": "code",
   "execution_count": 3,
   "metadata": {},
   "outputs": [
    {
     "data": {
      "text/plain": [
       "array(['Google Ads', 'YouTube', 'Instagram', 'Website', 'Facebook',\n",
       "       'Email'], dtype=object)"
      ]
     },
     "execution_count": 3,
     "metadata": {},
     "output_type": "execute_result"
    }
   ],
   "source": [
    "df.Channel_Used.unique()"
   ]
  },
  {
   "cell_type": "markdown",
   "metadata": {},
   "source": [
    "- Channel_Used : Plataforma de Marketing\n",
    "- Sin Campaign_ID"
   ]
  },
  {
   "cell_type": "code",
   "execution_count": 6,
   "metadata": {},
   "outputs": [
    {
     "data": {
      "text/html": [
       "<div>\n",
       "<style scoped>\n",
       "    .dataframe tbody tr th:only-of-type {\n",
       "        vertical-align: middle;\n",
       "    }\n",
       "\n",
       "    .dataframe tbody tr th {\n",
       "        vertical-align: top;\n",
       "    }\n",
       "\n",
       "    .dataframe thead th {\n",
       "        text-align: right;\n",
       "    }\n",
       "</style>\n",
       "<table border=\"1\" class=\"dataframe\">\n",
       "  <thead>\n",
       "    <tr style=\"text-align: right;\">\n",
       "      <th></th>\n",
       "      <th>Company</th>\n",
       "      <th>Campaign_Type</th>\n",
       "      <th>Target_Audience</th>\n",
       "      <th>Location</th>\n",
       "      <th>Language</th>\n",
       "    </tr>\n",
       "  </thead>\n",
       "  <tbody>\n",
       "    <tr>\n",
       "      <th>0</th>\n",
       "      <td>Innovate Industries</td>\n",
       "      <td>Email</td>\n",
       "      <td>Men 18-24</td>\n",
       "      <td>Chicago</td>\n",
       "      <td>Spanish</td>\n",
       "    </tr>\n",
       "    <tr>\n",
       "      <th>1</th>\n",
       "      <td>NexGen Systems</td>\n",
       "      <td>Email</td>\n",
       "      <td>Women 35-44</td>\n",
       "      <td>New York</td>\n",
       "      <td>German</td>\n",
       "    </tr>\n",
       "    <tr>\n",
       "      <th>2</th>\n",
       "      <td>Alpha Innovations</td>\n",
       "      <td>Influencer</td>\n",
       "      <td>Men 25-34</td>\n",
       "      <td>Los Angeles</td>\n",
       "      <td>French</td>\n",
       "    </tr>\n",
       "    <tr>\n",
       "      <th>3</th>\n",
       "      <td>DataTech Solutions</td>\n",
       "      <td>Display</td>\n",
       "      <td>All Ages</td>\n",
       "      <td>Miami</td>\n",
       "      <td>Mandarin</td>\n",
       "    </tr>\n",
       "    <tr>\n",
       "      <th>4</th>\n",
       "      <td>NexGen Systems</td>\n",
       "      <td>Email</td>\n",
       "      <td>Men 25-34</td>\n",
       "      <td>Los Angeles</td>\n",
       "      <td>Mandarin</td>\n",
       "    </tr>\n",
       "    <tr>\n",
       "      <th>...</th>\n",
       "      <td>...</td>\n",
       "      <td>...</td>\n",
       "      <td>...</td>\n",
       "      <td>...</td>\n",
       "      <td>...</td>\n",
       "    </tr>\n",
       "    <tr>\n",
       "      <th>20578</th>\n",
       "      <td>Alpha Innovations</td>\n",
       "      <td>Influencer</td>\n",
       "      <td>Women 25-34</td>\n",
       "      <td>Houston</td>\n",
       "      <td>Mandarin</td>\n",
       "    </tr>\n",
       "    <tr>\n",
       "      <th>20720</th>\n",
       "      <td>TechCorp</td>\n",
       "      <td>Search</td>\n",
       "      <td>Women 35-44</td>\n",
       "      <td>Miami</td>\n",
       "      <td>Mandarin</td>\n",
       "    </tr>\n",
       "    <tr>\n",
       "      <th>22426</th>\n",
       "      <td>NexGen Systems</td>\n",
       "      <td>Social Media</td>\n",
       "      <td>Women 25-34</td>\n",
       "      <td>Los Angeles</td>\n",
       "      <td>Mandarin</td>\n",
       "    </tr>\n",
       "    <tr>\n",
       "      <th>23577</th>\n",
       "      <td>NexGen Systems</td>\n",
       "      <td>Social Media</td>\n",
       "      <td>Men 18-24</td>\n",
       "      <td>New York</td>\n",
       "      <td>Spanish</td>\n",
       "    </tr>\n",
       "    <tr>\n",
       "      <th>23603</th>\n",
       "      <td>Innovate Industries</td>\n",
       "      <td>Email</td>\n",
       "      <td>Women 35-44</td>\n",
       "      <td>New York</td>\n",
       "      <td>French</td>\n",
       "    </tr>\n",
       "  </tbody>\n",
       "</table>\n",
       "<p>3125 rows × 5 columns</p>\n",
       "</div>"
      ],
      "text/plain": [
       "                   Company Campaign_Type Target_Audience     Location  \\\n",
       "0      Innovate Industries         Email       Men 18-24      Chicago   \n",
       "1           NexGen Systems         Email     Women 35-44     New York   \n",
       "2        Alpha Innovations    Influencer       Men 25-34  Los Angeles   \n",
       "3       DataTech Solutions       Display        All Ages        Miami   \n",
       "4           NexGen Systems         Email       Men 25-34  Los Angeles   \n",
       "...                    ...           ...             ...          ...   \n",
       "20578    Alpha Innovations    Influencer     Women 25-34      Houston   \n",
       "20720             TechCorp        Search     Women 35-44        Miami   \n",
       "22426       NexGen Systems  Social Media     Women 25-34  Los Angeles   \n",
       "23577       NexGen Systems  Social Media       Men 18-24     New York   \n",
       "23603  Innovate Industries         Email     Women 35-44     New York   \n",
       "\n",
       "       Language  \n",
       "0       Spanish  \n",
       "1        German  \n",
       "2        French  \n",
       "3      Mandarin  \n",
       "4      Mandarin  \n",
       "...         ...  \n",
       "20578  Mandarin  \n",
       "20720  Mandarin  \n",
       "22426  Mandarin  \n",
       "23577   Spanish  \n",
       "23603    French  \n",
       "\n",
       "[3125 rows x 5 columns]"
      ]
     },
     "execution_count": 6,
     "metadata": {},
     "output_type": "execute_result"
    }
   ],
   "source": [
    "df[['Company', 'Campaign_Type', 'Target_Audience','Location', 'Language']].drop_duplicates()"
   ]
  },
  {
   "cell_type": "code",
   "execution_count": 19,
   "metadata": {},
   "outputs": [
    {
     "data": {
      "text/html": [
       "<div>\n",
       "<style scoped>\n",
       "    .dataframe tbody tr th:only-of-type {\n",
       "        vertical-align: middle;\n",
       "    }\n",
       "\n",
       "    .dataframe tbody tr th {\n",
       "        vertical-align: top;\n",
       "    }\n",
       "\n",
       "    .dataframe thead th {\n",
       "        text-align: right;\n",
       "    }\n",
       "</style>\n",
       "<table border=\"1\" class=\"dataframe\">\n",
       "  <thead>\n",
       "    <tr style=\"text-align: right;\">\n",
       "      <th></th>\n",
       "      <th>Company</th>\n",
       "      <th>Campaign_Type</th>\n",
       "      <th>Language</th>\n",
       "      <th>Customer_Segment</th>\n",
       "    </tr>\n",
       "  </thead>\n",
       "  <tbody>\n",
       "    <tr>\n",
       "      <th>452</th>\n",
       "      <td>Alpha Innovations</td>\n",
       "      <td>Influencer</td>\n",
       "      <td>French</td>\n",
       "      <td>Tech Enthusiasts</td>\n",
       "    </tr>\n",
       "    <tr>\n",
       "      <th>674</th>\n",
       "      <td>Alpha Innovations</td>\n",
       "      <td>Influencer</td>\n",
       "      <td>English</td>\n",
       "      <td>Health &amp; Wellness</td>\n",
       "    </tr>\n",
       "    <tr>\n",
       "      <th>668</th>\n",
       "      <td>Alpha Innovations</td>\n",
       "      <td>Influencer</td>\n",
       "      <td>Spanish</td>\n",
       "      <td>Foodies</td>\n",
       "    </tr>\n",
       "    <tr>\n",
       "      <th>136</th>\n",
       "      <td>Alpha Innovations</td>\n",
       "      <td>Social Media</td>\n",
       "      <td>Spanish</td>\n",
       "      <td>Fashionistas</td>\n",
       "    </tr>\n",
       "    <tr>\n",
       "      <th>634</th>\n",
       "      <td>Alpha Innovations</td>\n",
       "      <td>Search</td>\n",
       "      <td>Mandarin</td>\n",
       "      <td>Fashionistas</td>\n",
       "    </tr>\n",
       "    <tr>\n",
       "      <th>...</th>\n",
       "      <td>...</td>\n",
       "      <td>...</td>\n",
       "      <td>...</td>\n",
       "      <td>...</td>\n",
       "    </tr>\n",
       "    <tr>\n",
       "      <th>887</th>\n",
       "      <td>TechCorp</td>\n",
       "      <td>Email</td>\n",
       "      <td>Mandarin</td>\n",
       "      <td>Outdoor Adventurers</td>\n",
       "    </tr>\n",
       "    <tr>\n",
       "      <th>670</th>\n",
       "      <td>TechCorp</td>\n",
       "      <td>Influencer</td>\n",
       "      <td>French</td>\n",
       "      <td>Outdoor Adventurers</td>\n",
       "    </tr>\n",
       "    <tr>\n",
       "      <th>885</th>\n",
       "      <td>TechCorp</td>\n",
       "      <td>Social Media</td>\n",
       "      <td>English</td>\n",
       "      <td>Fashionistas</td>\n",
       "    </tr>\n",
       "    <tr>\n",
       "      <th>786</th>\n",
       "      <td>TechCorp</td>\n",
       "      <td>Display</td>\n",
       "      <td>Mandarin</td>\n",
       "      <td>Outdoor Adventurers</td>\n",
       "    </tr>\n",
       "    <tr>\n",
       "      <th>49</th>\n",
       "      <td>TechCorp</td>\n",
       "      <td>Social Media</td>\n",
       "      <td>German</td>\n",
       "      <td>Tech Enthusiasts</td>\n",
       "    </tr>\n",
       "  </tbody>\n",
       "</table>\n",
       "<p>625 rows × 4 columns</p>\n",
       "</div>"
      ],
      "text/plain": [
       "               Company Campaign_Type  Language     Customer_Segment\n",
       "452  Alpha Innovations    Influencer    French     Tech Enthusiasts\n",
       "674  Alpha Innovations    Influencer   English    Health & Wellness\n",
       "668  Alpha Innovations    Influencer   Spanish              Foodies\n",
       "136  Alpha Innovations  Social Media   Spanish         Fashionistas\n",
       "634  Alpha Innovations        Search  Mandarin         Fashionistas\n",
       "..                 ...           ...       ...                  ...\n",
       "887           TechCorp         Email  Mandarin  Outdoor Adventurers\n",
       "670           TechCorp    Influencer    French  Outdoor Adventurers\n",
       "885           TechCorp  Social Media   English         Fashionistas\n",
       "786           TechCorp       Display  Mandarin  Outdoor Adventurers\n",
       "49            TechCorp  Social Media    German     Tech Enthusiasts\n",
       "\n",
       "[625 rows x 4 columns]"
      ]
     },
     "execution_count": 19,
     "metadata": {},
     "output_type": "execute_result"
    }
   ],
   "source": [
    "df[['Company', 'Campaign_Type', 'Language', \n",
    "    'Customer_Segment']].drop_duplicates().sort_values(by='Company')"
   ]
  },
  {
   "cell_type": "markdown",
   "metadata": {},
   "source": [
    "['Google Ads', 'YouTube', 'Instagram', 'Website', 'Facebook', 'Email']"
   ]
  },
  {
   "cell_type": "code",
   "execution_count": 25,
   "metadata": {},
   "outputs": [],
   "source": [
    "df.query('Channel_Used == \"YouTube\"').sample(50).to_csv('youtube_sample.csv', index=False)"
   ]
  },
  {
   "cell_type": "code",
   "execution_count": 33,
   "metadata": {},
   "outputs": [
    {
     "data": {
      "text/plain": [
       "array(['Spanish', 'German', 'French', 'Mandarin', 'English'], dtype=object)"
      ]
     },
     "execution_count": 33,
     "metadata": {},
     "output_type": "execute_result"
    }
   ],
   "source": [
    "column = 'Language'\n",
    "df[column].unique()"
   ]
  },
  {
   "cell_type": "code",
   "execution_count": 43,
   "metadata": {},
   "outputs": [
    {
     "data": {
      "text/plain": [
       "[547, 548]"
      ]
     },
     "execution_count": 43,
     "metadata": {},
     "output_type": "execute_result"
    }
   ],
   "source": [
    "lis_num_registros = []\n",
    "for day in df.Date.unique():\n",
    "    lis_num_registros.append(df[df.Date == day].shape[0])\n",
    "# eliminar duplicados\n",
    "list(set(lis_num_registros))"
   ]
  }
 ],
 "metadata": {
  "kernelspec": {
   "display_name": "base",
   "language": "python",
   "name": "python3"
  },
  "language_info": {
   "codemirror_mode": {
    "name": "ipython",
    "version": 3
   },
   "file_extension": ".py",
   "mimetype": "text/x-python",
   "name": "python",
   "nbconvert_exporter": "python",
   "pygments_lexer": "ipython3",
   "version": "3.11.5"
  }
 },
 "nbformat": 4,
 "nbformat_minor": 2
}
